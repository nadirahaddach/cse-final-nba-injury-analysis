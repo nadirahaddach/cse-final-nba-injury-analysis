{
 "cells": [
  {
   "cell_type": "code",
   "execution_count": 1,
   "id": "67953929-bc94-4da2-a21c-19959ed95394",
   "metadata": {},
   "outputs": [],
   "source": [
    "import pandas as pd\n",
    "import matplotlib.pyplot as plt\n",
    "import seaborn as sns"
   ]
  },
  {
   "cell_type": "code",
   "execution_count": 5,
   "id": "ad8217f6-8b09-4841-9cab-2513ca4f8d7e",
   "metadata": {},
   "outputs": [
    {
     "ename": "KeyError",
     "evalue": "\"None of [Index(['TEAM', 'SEASON', 'W-PCT'], dtype='object')] are in the [columns]\"",
     "output_type": "error",
     "traceback": [
      "\u001b[0;31m---------------------------------------------------------------------------\u001b[0m",
      "\u001b[0;31mKeyError\u001b[0m                                  Traceback (most recent call last)",
      "Cell \u001b[0;32mIn[5], line 31\u001b[0m\n\u001b[1;32m     29\u001b[0m \u001b[38;5;66;03m# Load Data\u001b[39;00m\n\u001b[1;32m     30\u001b[0m injuries \u001b[38;5;241m=\u001b[39m load_injury_data(\u001b[38;5;124m'\u001b[39m\u001b[38;5;124mdata/nba_injuries.csv\u001b[39m\u001b[38;5;124m'\u001b[39m)\n\u001b[0;32m---> 31\u001b[0m team_stats \u001b[38;5;241m=\u001b[39m \u001b[43mload_team_stats\u001b[49m\u001b[43m(\u001b[49m\u001b[38;5;124;43m'\u001b[39;49m\u001b[38;5;124;43mdata/Team_Records.csv\u001b[39;49m\u001b[38;5;124;43m'\u001b[39;49m\u001b[43m)\u001b[49m\n\u001b[1;32m     32\u001b[0m team_perf \u001b[38;5;241m=\u001b[39m load_team_performance(\u001b[38;5;124m'\u001b[39m\u001b[38;5;124mdata/advanced_stats_total.csv\u001b[39m\u001b[38;5;124m'\u001b[39m)\n\u001b[1;32m     34\u001b[0m \u001b[38;5;66;03m# Step 2: Merge Datasets\u001b[39;00m\n",
      "Cell \u001b[0;32mIn[5], line 18\u001b[0m, in \u001b[0;36mload_team_stats\u001b[0;34m(filepath)\u001b[0m\n\u001b[1;32m     13\u001b[0m \u001b[38;5;250m\u001b[39m\u001b[38;5;124;03m'''\u001b[39;00m\n\u001b[1;32m     14\u001b[0m \u001b[38;5;124;03mTakes in filepath to team stats data and returns cleaned DataFrame with columns, 'TEAM', \u001b[39;00m\n\u001b[1;32m     15\u001b[0m \u001b[38;5;124;03m'SEASON', and 'W-PCT'.\u001b[39;00m\n\u001b[1;32m     16\u001b[0m \u001b[38;5;124;03m'''\u001b[39;00m\n\u001b[1;32m     17\u001b[0m df \u001b[38;5;241m=\u001b[39m pd\u001b[38;5;241m.\u001b[39mread_csv(filepath)\n\u001b[0;32m---> 18\u001b[0m df \u001b[38;5;241m=\u001b[39m \u001b[43mdf\u001b[49m\u001b[43m[\u001b[49m\u001b[43m[\u001b[49m\u001b[38;5;124;43m'\u001b[39;49m\u001b[38;5;124;43mTEAM\u001b[39;49m\u001b[38;5;124;43m'\u001b[39;49m\u001b[43m,\u001b[49m\u001b[43m \u001b[49m\u001b[38;5;124;43m'\u001b[39;49m\u001b[38;5;124;43mSEASON\u001b[39;49m\u001b[38;5;124;43m'\u001b[39;49m\u001b[43m,\u001b[49m\u001b[43m \u001b[49m\u001b[38;5;124;43m'\u001b[39;49m\u001b[38;5;124;43mW-PCT\u001b[39;49m\u001b[38;5;124;43m'\u001b[39;49m\u001b[43m]\u001b[49m\u001b[43m]\u001b[49m\n\u001b[1;32m     19\u001b[0m \u001b[38;5;28;01mreturn\u001b[39;00m df\n",
      "File \u001b[0;32m/opt/conda/lib/python3.11/site-packages/pandas/core/frame.py:4108\u001b[0m, in \u001b[0;36mDataFrame.__getitem__\u001b[0;34m(self, key)\u001b[0m\n\u001b[1;32m   4106\u001b[0m     \u001b[38;5;28;01mif\u001b[39;00m is_iterator(key):\n\u001b[1;32m   4107\u001b[0m         key \u001b[38;5;241m=\u001b[39m \u001b[38;5;28mlist\u001b[39m(key)\n\u001b[0;32m-> 4108\u001b[0m     indexer \u001b[38;5;241m=\u001b[39m \u001b[38;5;28;43mself\u001b[39;49m\u001b[38;5;241;43m.\u001b[39;49m\u001b[43mcolumns\u001b[49m\u001b[38;5;241;43m.\u001b[39;49m\u001b[43m_get_indexer_strict\u001b[49m\u001b[43m(\u001b[49m\u001b[43mkey\u001b[49m\u001b[43m,\u001b[49m\u001b[43m \u001b[49m\u001b[38;5;124;43m\"\u001b[39;49m\u001b[38;5;124;43mcolumns\u001b[39;49m\u001b[38;5;124;43m\"\u001b[39;49m\u001b[43m)\u001b[49m[\u001b[38;5;241m1\u001b[39m]\n\u001b[1;32m   4110\u001b[0m \u001b[38;5;66;03m# take() does not accept boolean indexers\u001b[39;00m\n\u001b[1;32m   4111\u001b[0m \u001b[38;5;28;01mif\u001b[39;00m \u001b[38;5;28mgetattr\u001b[39m(indexer, \u001b[38;5;124m\"\u001b[39m\u001b[38;5;124mdtype\u001b[39m\u001b[38;5;124m\"\u001b[39m, \u001b[38;5;28;01mNone\u001b[39;00m) \u001b[38;5;241m==\u001b[39m \u001b[38;5;28mbool\u001b[39m:\n",
      "File \u001b[0;32m/opt/conda/lib/python3.11/site-packages/pandas/core/indexes/base.py:6200\u001b[0m, in \u001b[0;36mIndex._get_indexer_strict\u001b[0;34m(self, key, axis_name)\u001b[0m\n\u001b[1;32m   6197\u001b[0m \u001b[38;5;28;01melse\u001b[39;00m:\n\u001b[1;32m   6198\u001b[0m     keyarr, indexer, new_indexer \u001b[38;5;241m=\u001b[39m \u001b[38;5;28mself\u001b[39m\u001b[38;5;241m.\u001b[39m_reindex_non_unique(keyarr)\n\u001b[0;32m-> 6200\u001b[0m \u001b[38;5;28;43mself\u001b[39;49m\u001b[38;5;241;43m.\u001b[39;49m\u001b[43m_raise_if_missing\u001b[49m\u001b[43m(\u001b[49m\u001b[43mkeyarr\u001b[49m\u001b[43m,\u001b[49m\u001b[43m \u001b[49m\u001b[43mindexer\u001b[49m\u001b[43m,\u001b[49m\u001b[43m \u001b[49m\u001b[43maxis_name\u001b[49m\u001b[43m)\u001b[49m\n\u001b[1;32m   6202\u001b[0m keyarr \u001b[38;5;241m=\u001b[39m \u001b[38;5;28mself\u001b[39m\u001b[38;5;241m.\u001b[39mtake(indexer)\n\u001b[1;32m   6203\u001b[0m \u001b[38;5;28;01mif\u001b[39;00m \u001b[38;5;28misinstance\u001b[39m(key, Index):\n\u001b[1;32m   6204\u001b[0m     \u001b[38;5;66;03m# GH 42790 - Preserve name from an Index\u001b[39;00m\n",
      "File \u001b[0;32m/opt/conda/lib/python3.11/site-packages/pandas/core/indexes/base.py:6249\u001b[0m, in \u001b[0;36mIndex._raise_if_missing\u001b[0;34m(self, key, indexer, axis_name)\u001b[0m\n\u001b[1;32m   6247\u001b[0m \u001b[38;5;28;01mif\u001b[39;00m nmissing:\n\u001b[1;32m   6248\u001b[0m     \u001b[38;5;28;01mif\u001b[39;00m nmissing \u001b[38;5;241m==\u001b[39m \u001b[38;5;28mlen\u001b[39m(indexer):\n\u001b[0;32m-> 6249\u001b[0m         \u001b[38;5;28;01mraise\u001b[39;00m \u001b[38;5;167;01mKeyError\u001b[39;00m(\u001b[38;5;124mf\u001b[39m\u001b[38;5;124m\"\u001b[39m\u001b[38;5;124mNone of [\u001b[39m\u001b[38;5;132;01m{\u001b[39;00mkey\u001b[38;5;132;01m}\u001b[39;00m\u001b[38;5;124m] are in the [\u001b[39m\u001b[38;5;132;01m{\u001b[39;00maxis_name\u001b[38;5;132;01m}\u001b[39;00m\u001b[38;5;124m]\u001b[39m\u001b[38;5;124m\"\u001b[39m)\n\u001b[1;32m   6251\u001b[0m     not_found \u001b[38;5;241m=\u001b[39m \u001b[38;5;28mlist\u001b[39m(ensure_index(key)[missing_mask\u001b[38;5;241m.\u001b[39mnonzero()[\u001b[38;5;241m0\u001b[39m]]\u001b[38;5;241m.\u001b[39munique())\n\u001b[1;32m   6252\u001b[0m     \u001b[38;5;28;01mraise\u001b[39;00m \u001b[38;5;167;01mKeyError\u001b[39;00m(\u001b[38;5;124mf\u001b[39m\u001b[38;5;124m\"\u001b[39m\u001b[38;5;132;01m{\u001b[39;00mnot_found\u001b[38;5;132;01m}\u001b[39;00m\u001b[38;5;124m not in index\u001b[39m\u001b[38;5;124m\"\u001b[39m)\n",
      "\u001b[0;31mKeyError\u001b[0m: \"None of [Index(['TEAM', 'SEASON', 'W-PCT'], dtype='object')] are in the [columns]\""
     ]
    }
   ],
   "source": [
    "# Step 1: Load and Clean Data\n",
    "def load_injury_data(filepath):\n",
    "    '''\n",
    "    Takes in filepath to injury data and returns cleaned DataFrame with columns, 'Player', \n",
    "    'Team', 'Date', 'Return Date', and 'Injury'.\n",
    "    '''\n",
    "    df = pd.read_csv(filepath)\n",
    "    df = df.rename(columns={'Relinquished': 'Player', 'Notes': 'Injury'})\n",
    "    df = df[['Player', 'Team', 'Date', 'Injury']]\n",
    "    return df\n",
    "\n",
    "def load_team_stats(filepath):\n",
    "    '''\n",
    "    Takes in filepath to team stats data and returns cleaned DataFrame with columns, 'TEAM', \n",
    "    'SEASON', and 'W-PCT'.\n",
    "    '''\n",
    "    df = pd.read_csv(filepath)\n",
    "    df = df[['TEAM', 'SEASON', 'W-PCT']]\n",
    "    return df\n",
    "\n",
    "def load_team_performance(filepath):\n",
    "    '''\n",
    "    Takes in filepath to team performance data and returns cleaned DataFrame with columns, 'TEAM', \n",
    "    'SEASON', 'BENCH_PTS', and 'BENCH_MIN'.\n",
    "    '''\n",
    "    df = pd.read_csv(filepath)\n",
    "    df = df[['TEAM', 'SEASON', 'BENCH_PTS', 'BENCH_MIN']]\n",
    "\n",
    "# Load Data\n",
    "injuries = load_injury_data('data/nba_injuries.csv')\n",
    "team_stats = load_team_stats('data/Team_Records.csv')\n",
    "team_perf = load_team_performance('data/advanced_stats_total.csv')\n",
    "\n",
    "# Step 2: Merge Datasets\n",
    "def merge_datasets(injuries_df, stats_df, bench_df):\n",
    "    injuries_df = injuries_df.groupby(['Team', 'Season']).reset_index(name='Injury_Count')\n",
    "    merged = stats_df.merge(injuries_df, left_on=['Team', 'Season'], right_on=['Team', 'Season'], \n",
    "                            how='left')\n",
    "    merged = merged.merge(bench_df, on=['Team', 'Season'], how='left')\n",
    "    return merged"
   ]
  },
  {
   "cell_type": "code",
   "execution_count": null,
   "id": "6e69db8c-480d-4781-8e7e-01d2c20d96c1",
   "metadata": {},
   "outputs": [],
   "source": [
    "def compute_injury_rate(df):\n",
    "    '''\n",
    "    Takes in merged DataFrame and returns the DataFrame with an added column, average injury\n",
    "    count per game assuming an 82 game season.\n",
    "    '''\n",
    "    df.loc[df['Injury_Count'] == 'N/A', 'Injury_Count'] = 0\n",
    "    \n",
    "    df['Injury_Rate'] = df['Injury_Count'] / 82\n",
    "    return df"
   ]
  },
  {
   "cell_type": "code",
   "execution_count": null,
   "id": "ea02366a-3992-4156-b523-ae0a83f70f61",
   "metadata": {},
   "outputs": [],
   "source": [
    "def compute_injury_rate(df):\n",
    "    '''\n",
    "    Takes in merged DataFrame and returns the DataFrame with an added column, average injury\n",
    "    count per game assuming an 82 game season.\n",
    "    '''\n",
    "    df.loc[df['Injury_Count'] == 'N/A', 'Injury_Count'] = 0\n",
    "    \n",
    "    df['Injury_Rate'] = df['Injury_Count'] / 82\n",
    "    return df"
   ]
  },
  {
   "cell_type": "code",
   "execution_count": 3,
   "id": "4fc177b6-939a-404f-bba9-6f323fb1e183",
   "metadata": {},
   "outputs": [
    {
     "ename": "SyntaxError",
     "evalue": "incomplete input (2040543147.py, line 2)",
     "output_type": "error",
     "traceback": [
      "\u001b[0;36m  Cell \u001b[0;32mIn[3], line 2\u001b[0;36m\u001b[0m\n\u001b[0;31m    def run_hypotesis_tests(df):\u001b[0m\n\u001b[0m                                ^\u001b[0m\n\u001b[0;31mSyntaxError\u001b[0m\u001b[0;31m:\u001b[0m incomplete input\n"
     ]
    }
   ],
   "source": [
    "# Hypothesis Testing\n",
    "def run_hypotesis_tests(df):"
   ]
  },
  {
   "cell_type": "code",
   "execution_count": 4,
   "id": "14e3a6b1-a3d8-4269-9729-d4405dabcdd1",
   "metadata": {},
   "outputs": [],
   "source": [
    "def plot_injury_vs_win_pct(df):\n",
    "    plot = sns.relplot(data=df, x='Injury_Count', y='W_PCT')\n",
    "    plot.set(xlabel='Injury Count', ylabel='Win Percentage', title='Injury Count vs Win Percentage')\n",
    "    plt.show()\n",
    "    \n",
    "    return plot"
   ]
  },
  {
   "cell_type": "code",
   "execution_count": null,
   "id": "65c6bb36-1138-406f-9450-cfb56cb764df",
   "metadata": {},
   "outputs": [],
   "source": []
  }
 ],
 "metadata": {
  "kernelspec": {
   "display_name": "Python 3 (ipykernel)",
   "language": "python",
   "name": "python3"
  },
  "language_info": {
   "codemirror_mode": {
    "name": "ipython",
    "version": 3
   },
   "file_extension": ".py",
   "mimetype": "text/x-python",
   "name": "python",
   "nbconvert_exporter": "python",
   "pygments_lexer": "ipython3",
   "version": "3.11.9"
  }
 },
 "nbformat": 4,
 "nbformat_minor": 5
}
