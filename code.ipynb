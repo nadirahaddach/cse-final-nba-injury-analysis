{
 "cells": [
  {
   "cell_type": "code",
   "execution_count": 9,
   "id": "67953929-bc94-4da2-a21c-19959ed95394",
   "metadata": {},
   "outputs": [
    {
     "name": "stdout",
     "output_type": "stream",
     "text": [
      "Requirement already satisfied: plotly in /opt/conda/lib/python3.11/site-packages (6.1.2)\n",
      "Requirement already satisfied: narwhals>=1.15.1 in /opt/conda/lib/python3.11/site-packages (from plotly) (1.41.0)\n",
      "Requirement already satisfied: packaging in /opt/conda/lib/python3.11/site-packages (from plotly) (24.2)\n",
      "\n",
      "\u001b[1m[\u001b[0m\u001b[34;49mnotice\u001b[0m\u001b[1;39;49m]\u001b[0m\u001b[39;49m A new release of pip is available: \u001b[0m\u001b[31;49m25.0.1\u001b[0m\u001b[39;49m -> \u001b[0m\u001b[32;49m25.1.1\u001b[0m\n",
      "\u001b[1m[\u001b[0m\u001b[34;49mnotice\u001b[0m\u001b[1;39;49m]\u001b[0m\u001b[39;49m To update, run: \u001b[0m\u001b[32;49mpip install --upgrade pip\u001b[0m\n"
     ]
    }
   ],
   "source": [
    "!pip install plotly\n",
    "import plotly.express as px\n",
    "import pandas as pd\n",
    "import matplotlib.pyplot as plt\n",
    "import seaborn as sns"
   ]
  },
  {
   "cell_type": "code",
   "execution_count": 18,
   "id": "ad8217f6-8b09-4841-9cab-2513ca4f8d7e",
   "metadata": {},
   "outputs": [
    {
     "name": "stdout",
     "output_type": "stream",
     "text": [
      "['Team', 'Season', 'W/L%', 'Injury_Count_x', 'Pace', 'OPtg', 'DRtg', 'Year', 'Injury_Count_y']\n"
     ]
    },
    {
     "data": {
      "image/png": "[encoded data removed]",
      "text/plain": [
       "<Figure size 640x480 with 1 Axes>"
      ]
     },
     "metadata": {},
     "output_type": "display_data"
    }
   ],
   "source": [
    "# Step 1: Load and Clean Data\n",
    "def load_injury_data(filepath):\n",
    "    '''\n",
    "    Takes in filepath to injury data and returns cleaned DataFrame with columns, 'Player', \n",
    "    'Team', 'Date', 'Return Date', and 'Injury'.\n",
    "    '''\n",
    "    df = pd.read_csv(filepath)\n",
    "    df = df.rename(columns={'Relinquished': 'Player', 'Notes': 'Injury'})\n",
    "    df = df[['Player', 'Team', 'Date', 'Injury']]\n",
    "    df['Season'] = [int(date[:4]) for date in df['Date']]\n",
    "    return df\n",
    "\n",
    "def load_team_stats(filepath):\n",
    "    '''\n",
    "    Takes in filepath to team stats data and returns cleaned DataFrame with columns, 'TEAM', \n",
    "    'SEASON', and 'W-PCT'.\n",
    "    '''\n",
    "    df = pd.read_csv(filepath)\n",
    "    df = df[['Team', 'Season', 'W/L%']] \n",
    "    df['Season'] = [int(season[:4]) for season in df['Season']]\n",
    "    return df\n",
    "\n",
    "def load_team_performance(filepath):\n",
    "    '''\n",
    "    Takes in filepath to team performance data and returns cleaned DataFrame with columns, 'TEAM', \n",
    "    'SEASON', 'BENCH_PTS', and 'BENCH_MIN'.\n",
    "    '''\n",
    "    df = pd.read_csv(filepath)\n",
    "    df = df[['Team', 'Year', 'Pace', 'OPtg', 'DRtg']]\n",
    "    df['Season'] = df['Year']\n",
    "    df = df.drop(columns=['Year'])\n",
    "    return df\n",
    "\n",
    "def compute_injury_counts_by_team_year(filepath):\n",
    "    '''\n",
    "    Loads NBA injury data and returns a DataFrame showing injury counts per team per year.\n",
    "    '''\n",
    "    df = pd.read_csv(filepath)\n",
    "    df = df[['Date', 'Team', 'Relinquished']]\n",
    "    df = df[[type(date) != float and type(team) != float for date, team in zip(df['Date'], df['Team'])]]\n",
    "    df['Year'] = df['Date'].str.slice(0, 4).astype(int)\n",
    "    injury_counts = df.groupby(['Team', 'Year']).size().reset_index(name='Injury_Count')\n",
    "\n",
    "    return injury_counts\n",
    "\n",
    "# Load Data\n",
    "injuries_df = load_injury_data('data/nba_injuries.csv')\n",
    "team_stats = load_team_stats('data/Team_Records.csv')\n",
    "team_perf = load_team_performance('data/advanced_stats_total.csv')\n",
    "injury_counts = compute_injury_counts_by_team_year(\"data/nba_injuries.csv\")\n",
    "\n",
    "# Step 2: Merge Datasets\n",
    "def merge_datasets(injuries_df, stats_df, bench_df):\n",
    "    injuries_count = injuries_df.groupby(['Team', 'Season']).size().reset_index(name='Injury_Count')\n",
    "    merged = stats_df.merge(injuries_count, on=['Team', 'Season'], how='left')\n",
    "    merged = merged.merge(bench_df, on=['Team', 'Season'], how='left')\n",
    "    \n",
    "    stats_df['Season'] = [int(season) for season in stats_df['Season']]\n",
    "    merged = merged.merge(injury_counts, left_on=['Team', 'Season'], right_on=['Team', 'Year'], how='left')\n",
    "    \n",
    "    return merged\n",
    "\n",
    "merged_df = merge_datasets(injuries_df, team_stats, team_perf)\n",
    "\n",
    "print(merged_df.columns.tolist())\n",
    "\n",
    "def plot_injury_vs_win_pct(df):\n",
    "    avg = df.groupby('Team')[['Injury_Count_x','W/L%']].mean().dropna()\n",
    "    \n",
    "    plot = sns.scatterplot(data=avg, x='Injury_Count_x', y='W/L%')\n",
    "    plot.set(xlabel='Injury Count', ylabel='Win Percentage', title='Injury Count vs Win Percentage')\n",
    "    plt.show()\n",
    "\n",
    "plot_injury_vs_win_pct(merged_df)"
   ]
  },
  {
   "cell_type": "code",
   "execution_count": 12,
   "id": "6e69db8c-480d-4781-8e7e-01d2c20d96c1",
   "metadata": {},
   "outputs": [],
   "source": []
  },
  {
   "cell_type": "code",
   "execution_count": null,
   "id": "34004aea-cfed-41a4-be01-49c1892ab208",
   "metadata": {},
   "outputs": [],
   "source": [
    "team_name_mapping = {'76ers': 'Philadelphia 76ers',\n",
    "                     'Bucks': 'Milwaukee Bucks', \n",
    "                     'Bulls': 'Chicago Bulls',\n",
    "                     'Cavaliers': 'Cleveland Cavaliers',\n",
    "                     'Celtics': 'Boston Celtics',\n",
    "                     'Clippers': 'Los Angeles Clippers',\n",
    "                     'Grizzlies': 'Memphis Grizzlies',\n",
    "                     'Hawks': 'Atlanta Hawks',\n",
    "                     'Heat': 'Miami Heat',\n",
    "                     'Hornets': 'Charlotte Hornets',\n",
    "                     'Jazz': 'Utah Jazz',\n",
    "                     'Kings': 'Sacramento Kings',\n",
    "                     'Knicks': 'New York Knicks',\n",
    "                     'Lakers': 'Los Angeles Lakers',\n",
    "                     'Magic': 'Orlando Magic',\n",
    "                     'Mavericks': 'Dallas Mavericks',\n",
    "                     'Nets': 'Brooklyn Nets',\n",
    "                     'Nuggets': 'Denver Nuggets',\n",
    "                     'Pacers': 'Indiana Pacers',\n",
    "                     'Pelicans': 'New Orleans Pelicans',\n",
    "                     'Pistons': 'Detroit Pistons',\n",
    "                     'Raptors': 'Toronto Raptors',\n",
    "                     'Rockets': 'Houston Rockets',\n",
    "                     'Spurs': 'San Antonio Spurs',\n",
    "                     'Suns': 'Phoenix Suns',\n",
    "                     'Thunder': 'Oklahoma City Thunder',\n",
    "                     'Timberwolves': 'Minnesota Timberwolves',\n",
    "                     'Trail Blazers': 'Portland Trail Blazers',\n",
    "                     'Warriors': 'Golden State Warriors',\n",
    "                     'Wizards': 'Washington Wizards',\n",
    "                     'Atlanta Hawks*': 'Atlanta Hawks',\n",
    "                     'Boston Celtics*': 'Boston Celtics',\n",
    "                     \n",
    "                     'Baltimore Bullets': 'Washington Wizards',\n",
    "                     'Baltimore Bullets*': 'Washington Wizards',\n",
    "                     'Bullets': 'Washington Wizards',\n",
    "                     'New Jersey Nets': 'Brooklyn Nets',\n",
    "                     'New Orleans Hornets': 'New Orleans Pelicans',\n",
    "                     'New Orleans/Oklahoma City Hornets': 'New Orleans Pelicans',\n",
    "                     'Seattle SuperSonics': 'Oklahoma City Thunder',\n",
    "                     'San Diego Clippers': 'Los Angeles Clippers',\n",
    "                     'Vancouver Grizzlies': 'Memphis Grizzlies',\n",
    "                     'Charlotte Bobcats': 'Charlotte Hornets',\n",
    "                     'New Orleans Jazz': 'Utah Jazz',\n",
    "                     'Kansas City Kings': 'Sacramento Kings',\n",
    "                     'Cincinnati Royals': 'Sacramento Kings',\n",
    "                     'St. Louis Hawks': 'Atlanta Hawks',\n",
    "                     'Washington Bullets': 'Washington Wizards',\n",
    "                     'Fort Wayne Pistons': 'Detroit Pistons',\n",
    "                     'Minneapolis Lakers': 'Los Angeles Lakers',\n",
    "                     'Buffalo Braves': 'Los Angeles Clippers',\n",
    "                     'Braves': 'Los Angeles Clippers',\n",
    "                     'Bobcats': 'Charlotte Hornets',\n",
    "                     'Blazers': 'Portland Trail Blazers'}\n",
    "\n",
    "injuries_df['Team'] = injuries_df['Team'].map(team_name_mapping)\n",
    "team_stats_df['Team'] = team_stats_df['Team'].map(team_name_mapping)\n",
    "team_perf_df['Team'] = team_perf_df['Team'].map(team_name_mapping)"
   ]
  }
 ],
 "metadata": {
  "kernelspec": {
   "display_name": "Python 3 (ipykernel)",
   "language": "python",
   "name": "python3"
  },
  "language_info": {
   "codemirror_mode": {
    "name": "ipython",
    "version": 3
   },
   "file_extension": ".py",
   "mimetype": "text/x-python",
   "name": "python",
   "nbconvert_exporter": "python",
   "pygments_lexer": "ipython3",
   "version": "3.11.9"
  }
 },
 "nbformat": 4,
 "nbformat_minor": 5
}
