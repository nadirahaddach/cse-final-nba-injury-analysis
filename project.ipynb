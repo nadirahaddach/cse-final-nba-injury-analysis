{
 "cells": [
  {
   "cell_type": "markdown",
   "id": "ebf52349-3294-4698-b783-ba72e43ff06d",
   "metadata": {},
   "source": [
    "# Breaking Point: Analyzing the Effect of Injuries on NBA Team Performance\n",
    "\n",
    "We have always been facinated by the unperdictable nature of sports, how even a championship level team can unravel due to a single injury. That lead us to explore how injury trends in the NBA affect team performance. Using multiple datasets with decades of inputs, this project investigates the correlations between win-loss ratios, postseason sucess, and strength of schedule with injuries. Through this analysis, we hope to answer the following questions:\n",
    "\n",
    "- How do injury counts per season correlate with a team's win to loss ratio in the NBA?\n",
    "- Do teams with fewer injuries consistently rank higher in their conferences or make deeper playoff runs?\n",
    "- Do teams with stronger strength of schedule suffer more injuries throughout the season?"
   ]
  },
  {
   "cell_type": "markdown",
   "id": "84e331f5-20f9-442c-ab65-364d4efb118c",
   "metadata": {
    "jp-MarkdownHeadingCollapsed": true
   },
   "source": [
    "## Challenge Goals\n",
    "\n",
    "Multiple Data Sets\n",
    "* \n",
    "\n",
    "Statistical Hypothesis Testing\n",
    "* \n",
    "\n",
    "*Replace this text with your challenge goals. If the challenge goals were scaled back or expanded, explain why the task turned out differently than initially estimated.*"
   ]
  },
  {
   "cell_type": "markdown",
   "id": "dcc3ea93-fc61-402a-bf04-490729b600d8",
   "metadata": {},
   "source": [
    "## Collaboration and Conduct\n",
    "\n",
    "Students are expected to follow Washington state law on the [Student Conduct Code for the University of Washington](https://www.washington.edu/admin/rules/policies/WAC/478-121TOC.html). In this course, students must:\n",
    "\n",
    "- Indicate on your submission any assistance received, including materials distributed in this course.\n",
    "- Not receive, generate, or otherwise acquire any substantial portion or walkthrough to an assessment.\n",
    "- Not aid, assist, attempt, or tolerate prohibited academic conduct in others.\n",
    "\n",
    "Update the following code cell to include your name and list your sources. If you used any kind of computer technology to help prepare your assessment submission, include the queries and/or prompts. Submitted work that is not consistent with sources may be subject to the student conduct process."
   ]
  },
  {
   "cell_type": "code",
   "execution_count": 1,
   "id": "77c5d696-2e15-4c25-9fdf-b31e535b9c22",
   "metadata": {},
   "outputs": [
    {
     "ename": "AssertionError",
     "evalue": "sources should not include the placeholder ellipsis",
     "output_type": "error",
     "traceback": [
      "\u001b[0;31m---------------------------------------------------------------------------\u001b[0m",
      "\u001b[0;31mAssertionError\u001b[0m                            Traceback (most recent call last)",
      "Cell \u001b[0;32mIn[1], line 7\u001b[0m\n\u001b[1;32m      2\u001b[0m sources \u001b[38;5;241m=\u001b[39m [\n\u001b[1;32m      3\u001b[0m     \u001b[38;5;241m.\u001b[39m\u001b[38;5;241m.\u001b[39m\u001b[38;5;241m.\u001b[39m\n\u001b[1;32m      4\u001b[0m ]\n\u001b[1;32m      6\u001b[0m \u001b[38;5;28;01massert\u001b[39;00m your_name \u001b[38;5;241m!=\u001b[39m \u001b[38;5;124m\"\u001b[39m\u001b[38;5;124m\"\u001b[39m, \u001b[38;5;124m\"\u001b[39m\u001b[38;5;124myour_name cannot be empty\u001b[39m\u001b[38;5;124m\"\u001b[39m\n\u001b[0;32m----> 7\u001b[0m \u001b[38;5;28;01massert\u001b[39;00m \u001b[38;5;241m.\u001b[39m\u001b[38;5;241m.\u001b[39m\u001b[38;5;241m.\u001b[39m \u001b[38;5;129;01mnot\u001b[39;00m \u001b[38;5;129;01min\u001b[39;00m sources, \u001b[38;5;124m\"\u001b[39m\u001b[38;5;124msources should not include the placeholder ellipsis\u001b[39m\u001b[38;5;124m\"\u001b[39m\n\u001b[1;32m      8\u001b[0m \u001b[38;5;28;01massert\u001b[39;00m \u001b[38;5;28mlen\u001b[39m(sources) \u001b[38;5;241m>\u001b[39m\u001b[38;5;241m=\u001b[39m \u001b[38;5;241m6\u001b[39m, \u001b[38;5;124m\"\u001b[39m\u001b[38;5;124mmust include at least 6 sources, inclusive of lectures and sections\u001b[39m\u001b[38;5;124m\"\u001b[39m\n",
      "\u001b[0;31mAssertionError\u001b[0m: sources should not include the placeholder ellipsis"
     ]
    }
   ],
   "source": [
    "your_name = \"Nadira Haddach and Ethan Tran\"\n",
    "sources = [\n",
    "    ...\n",
    "]\n",
    "\n",
    "assert your_name != \"\", \"your_name cannot be empty\"\n",
    "assert ... not in sources, \"sources should not include the placeholder ellipsis\"\n",
    "assert len(sources) >= 6, \"must include at least 6 sources, inclusive of lectures and sections\""
   ]
  },
  {
   "cell_type": "markdown",
   "id": "e3a9116b-b1c6-424a-a790-037dd3a8a55b",
   "metadata": {},
   "source": [
    "## Data Setting and Methods\n",
    "\n",
    "#### Data Setting\n",
    "\n",
    "\n",
    "#### Methods\n",
    "\n",
    "*Replace this text with a description of the data setting, any data transformations you conducted, and the methods you plan to use to answer the research questions. You may remove the code cell below if you don't need it.*"
   ]
  },
  {
   "cell_type": "code",
   "execution_count": null,
   "id": "33cecd7f-eb42-4ef6-bde8-d1283ceb792a",
   "metadata": {},
   "outputs": [],
   "source": []
  },
  {
   "cell_type": "markdown",
   "id": "6f82369a-4b1d-4c5e-aaf6-b747b453a157",
   "metadata": {},
   "source": [
    "## Results\n",
    "\n",
    "1.  How do injury counts per season correlate with a team's win to loss ratio in the NBA?\n",
    "2.  Do teams with fewer injuries consistently rank higher in their conferences or make deeper playoff runs?\n",
    "3.  Do teams with stronger strength of schedule suffer more injuries throughout the season?\n",
    "\n",
    "*Replace this text with your results. This section tends to be one of the longer sections of the notebook. Be sure to create new code cells and new Markdown text cells with additional subheadings to explain and break-up longer snippets of code into a more readable format.*\n",
    "\n",
    "1. *Present and discuss your research results. Treat each of your research questions separately. Include additional discussions for results that are most interesting, surprising, or important.*\n",
    "2. *Interpret the results. If the answers are unexpected, try to offer an explanation. A good report not only presents the results, but also provides an argument or interpretation based on the data analysis.*\n",
    "3. *Include any visualizations you have made. In general, these should be generated by your Python code. If you plotted by hand or other software, explain why it was not possible to create the plot you wanted in Python and what you tried.*\n",
    "\n",
    "*As with assessments, documentation and testing are required. Automated tests must be written in Python using small, manually-verifiable data.*"
   ]
  },
  {
   "cell_type": "code",
   "execution_count": null,
   "id": "80cf38eb-73e5-498a-873a-2a4a814d5e5d",
   "metadata": {},
   "outputs": [],
   "source": []
  },
  {
   "cell_type": "markdown",
   "id": "95e53e55-98a7-4a47-9207-4294b43e5857",
   "metadata": {},
   "source": [
    "1. How do injury counts per season correlate with a team's win to loss ratio in the NBA?\n",
    "\n",
    "The plot for average win percentage for each team based of injury count over the years showed a general downward trend, demonstrating how as number of injuries increased, win percentage tended to decrease. The second view emphasized that teams with consistently lower injury counts tended to maintain stronger average win records, though small, there is a difference. Some notable outliers could suggest some teams are more resilent to injuries or strategic adjustments. This data supports a negative correlation between injury count and win percentage. "
   ]
  },
  {
   "cell_type": "markdown",
   "id": "cca674f2-90ac-4137-80da-416146e1468c",
   "metadata": {},
   "source": [
    "2. Do teams with fewer injuries consistently rank higher in their conferences or make deeper playoff runs?\n",
    "\n",
    "This box plot showed that "
   ]
  },
  {
   "cell_type": "markdown",
   "id": "afbb315b-34b2-4a19-8a67-7b8f96c24754",
   "metadata": {},
   "source": [
    "## Implications and Limitations\n",
    "\n",
    "The strongest beneficiaries of this analysis would be NBA front offices and coaching stadd, the analysis highlights relashionships between injuries and overall team success. These insights can be a valuble tool in where to allocate reasources, for example load managemnet, training staff, or bench depth. Also, NBA fans could benifit from this analysis, especially sports betters, allowing them to better understand how injuries can affect win percentage and playoff success. \n",
    "\n",
    "One group that could be exluded or harmed by this data are players. With more injury prone players could lose contracts or lose favor in public perception for \"bringing down their team\".\n",
    "\n",
    "Three limitations of this analysis are inconsistent injury reporting, difference in injury severity, and the fact that injuries are only a fragment of a teams overall success. To start, our data doesn't cover seaons before 2000, and even after that, many teams could under report injuries due to less rigorous documentation. As a result, it's unclear how accurate early data is. Aditionally, our data doesn't take into account the severity of injuries and doesn't differentiate between starters and bench players. A star would likley have a much bigger impact on a team if hurt than a bench player, but this analysis does not account for this. Lastly, injury is just a small piece of a team, other factors, like roster quality, coaching, etc. are not taken into account.\n",
    "\n",
    "*Replace this text with your analysis. Who might benefit from your analysis and who might be excluded or otherwise harmed by it? What about the data setting might have impacted your results? Explain at least 3 limitations of your analysis and how others should or shouldn't be advised to use your conclusions. You may remove the code cell below if you don't need it.*"
   ]
  },
  {
   "cell_type": "code",
   "execution_count": null,
   "id": "0fc2a24b-68fd-46b0-97e4-5919dab197cc",
   "metadata": {},
   "outputs": [],
   "source": []
  }
 ],
 "metadata": {
  "kernelspec": {
   "display_name": "Python 3 (ipykernel)",
   "language": "python",
   "name": "python3"
  },
  "language_info": {
   "codemirror_mode": {
    "name": "ipython",
    "version": 3
   },
   "file_extension": ".py",
   "mimetype": "text/x-python",
   "name": "python",
   "nbconvert_exporter": "python",
   "pygments_lexer": "ipython3",
   "version": "3.11.9"
  }
 },
 "nbformat": 4,
 "nbformat_minor": 5
}
